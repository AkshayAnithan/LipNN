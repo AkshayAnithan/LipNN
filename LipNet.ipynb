{
 "cells": [
  {
   "cell_type": "code",
   "execution_count": 3,
   "metadata": {},
   "outputs": [],
   "source": [
    "import os\n",
    "import cv2\n",
    "import tensorflow as tf\n",
    "import numpy as np\n",
    "from typing import List\n",
    "from matplotlib import pyplot as plt\n",
    "import imageio"
   ]
  },
  {
   "cell_type": "code",
   "execution_count": 4,
   "metadata": {},
   "outputs": [
    {
     "data": {
      "text/plain": [
       "[]"
      ]
     },
     "execution_count": 4,
     "metadata": {},
     "output_type": "execute_result"
    }
   ],
   "source": [
    "tf.config.list_physical_devices('GPU')"
   ]
  },
  {
   "cell_type": "code",
   "execution_count": 5,
   "metadata": {},
   "outputs": [],
   "source": [
    "physical_devices = tf.config.list_physical_devices('GPU')\n",
    "try:\n",
    "    tf.config.experimental.set_memory_growth(physical_devices[0], True)\n",
    "except:\n",
    "    pass"
   ]
  },
  {
   "attachments": {},
   "cell_type": "markdown",
   "metadata": {},
   "source": [
    "1. Build Data Loading Functions"
   ]
  },
  {
   "cell_type": "code",
   "execution_count": 6,
   "metadata": {},
   "outputs": [],
   "source": [
    "import gdown"
   ]
  },
  {
   "cell_type": "code",
   "execution_count": null,
   "metadata": {},
   "outputs": [],
   "source": [
    "url = 'https://drive.google.com/uc?id=1YlvpDLix3S-U8fd-gqRwPcWXAXm8JwjL'\n",
    "output = 'data.zip'\n",
    "gdown.download(url, output, quiet=False)\n",
    "gdown.extractall('data.zip')"
   ]
  },
  {
   "cell_type": "code",
   "execution_count": 7,
   "metadata": {},
   "outputs": [],
   "source": [
    "def load_video(path:str) -> List[float]: \n",
    "\n",
    "    cap = cv2.VideoCapture(path)\n",
    "    frames = []\n",
    "    for _ in range(int(cap.get(cv2.CAP_PROP_FRAME_COUNT))): \n",
    "        ret, frame = cap.read()\n",
    "        frame = tf.image.rgb_to_grayscale(frame)\n",
    "        frames.append(frame[190:236,80:220,:])\n",
    "    cap.release()\n",
    "    \n",
    "    mean = tf.math.reduce_mean(frames)\n",
    "    std = tf.math.reduce_std(tf.cast(frames, tf.float32))\n",
    "    return tf.cast((frames - mean), tf.float32) / std"
   ]
  },
  {
   "cell_type": "code",
   "execution_count": 8,
   "metadata": {},
   "outputs": [],
   "source": [
    "vocab = [x for x in \"abcdefghijklmnopqrstuvwxyz'?!123456789 \"]"
   ]
  },
  {
   "cell_type": "code",
   "execution_count": 9,
   "metadata": {},
   "outputs": [
    {
     "data": {
      "text/plain": [
       "['a',\n",
       " 'b',\n",
       " 'c',\n",
       " 'd',\n",
       " 'e',\n",
       " 'f',\n",
       " 'g',\n",
       " 'h',\n",
       " 'i',\n",
       " 'j',\n",
       " 'k',\n",
       " 'l',\n",
       " 'm',\n",
       " 'n',\n",
       " 'o',\n",
       " 'p',\n",
       " 'q',\n",
       " 'r',\n",
       " 's',\n",
       " 't',\n",
       " 'u',\n",
       " 'v',\n",
       " 'w',\n",
       " 'x',\n",
       " 'y',\n",
       " 'z',\n",
       " \"'\",\n",
       " '?',\n",
       " '!',\n",
       " '1',\n",
       " '2',\n",
       " '3',\n",
       " '4',\n",
       " '5',\n",
       " '6',\n",
       " '7',\n",
       " '8',\n",
       " '9',\n",
       " ' ']"
      ]
     },
     "execution_count": 9,
     "metadata": {},
     "output_type": "execute_result"
    }
   ],
   "source": [
    "vocab"
   ]
  },
  {
   "cell_type": "code",
   "execution_count": 10,
   "metadata": {},
   "outputs": [
    {
     "name": "stdout",
     "output_type": "stream",
     "text": [
      "The vocabulary is: ['', 'a', 'b', 'c', 'd', 'e', 'f', 'g', 'h', 'i', 'j', 'k', 'l', 'm', 'n', 'o', 'p', 'q', 'r', 's', 't', 'u', 'v', 'w', 'x', 'y', 'z', \"'\", '?', '!', '1', '2', '3', '4', '5', '6', '7', '8', '9', ' '] (size =40)\n"
     ]
    }
   ],
   "source": [
    "char_to_num = tf.keras.layers.StringLookup(vocabulary=vocab, oov_token=\"\")\n",
    "num_to_char = tf.keras.layers.StringLookup(\n",
    "    vocabulary=char_to_num.get_vocabulary(), oov_token=\"\", invert=True\n",
    ")\n",
    "\n",
    "print(\n",
    "    f\"The vocabulary is: {char_to_num.get_vocabulary()} \"\n",
    "    f\"(size ={char_to_num.vocabulary_size()})\"\n",
    ")"
   ]
  },
  {
   "cell_type": "code",
   "execution_count": 11,
   "metadata": {},
   "outputs": [
    {
     "data": {
      "text/plain": [
       "<tf.Tensor: shape=(6,), dtype=int64, numpy=array([ 1, 11, 19,  8,  1, 25], dtype=int64)>"
      ]
     },
     "execution_count": 11,
     "metadata": {},
     "output_type": "execute_result"
    }
   ],
   "source": [
    "char_to_num(['a','k','s','h','a','y'])"
   ]
  },
  {
   "cell_type": "code",
   "execution_count": 12,
   "metadata": {},
   "outputs": [
    {
     "data": {
      "text/plain": [
       "<tf.Tensor: shape=(6,), dtype=string, numpy=array([b'a', b'k', b's', b'h', b'a', b'y'], dtype=object)>"
      ]
     },
     "execution_count": 12,
     "metadata": {},
     "output_type": "execute_result"
    }
   ],
   "source": [
    "num_to_char([1,11,19,8,1,25])"
   ]
  },
  {
   "cell_type": "code",
   "execution_count": 13,
   "metadata": {},
   "outputs": [
    {
     "data": {
      "text/plain": [
       "['',\n",
       " 'a',\n",
       " 'b',\n",
       " 'c',\n",
       " 'd',\n",
       " 'e',\n",
       " 'f',\n",
       " 'g',\n",
       " 'h',\n",
       " 'i',\n",
       " 'j',\n",
       " 'k',\n",
       " 'l',\n",
       " 'm',\n",
       " 'n',\n",
       " 'o',\n",
       " 'p',\n",
       " 'q',\n",
       " 'r',\n",
       " 's',\n",
       " 't',\n",
       " 'u',\n",
       " 'v',\n",
       " 'w',\n",
       " 'x',\n",
       " 'y',\n",
       " 'z',\n",
       " \"'\",\n",
       " '?',\n",
       " '!',\n",
       " '1',\n",
       " '2',\n",
       " '3',\n",
       " '4',\n",
       " '5',\n",
       " '6',\n",
       " '7',\n",
       " '8',\n",
       " '9',\n",
       " ' ']"
      ]
     },
     "execution_count": 13,
     "metadata": {},
     "output_type": "execute_result"
    }
   ],
   "source": [
    "num_to_char.get_vocabulary()"
   ]
  },
  {
   "cell_type": "code",
   "execution_count": 14,
   "metadata": {},
   "outputs": [],
   "source": [
    "def load_alignments(path:str) -> List[str]: \n",
    "    with open(path, 'r') as f: \n",
    "        lines = f.readlines() \n",
    "    tokens = []\n",
    "    for line in lines:\n",
    "        line = line.split()\n",
    "        if line[2] != 'sil': \n",
    "            tokens = [*tokens,' ',line[2]]\n",
    "    return char_to_num(tf.reshape(tf.strings.unicode_split(tokens, input_encoding='UTF-8'), (-1)))[1:]"
   ]
  },
  {
   "cell_type": "code",
   "execution_count": 15,
   "metadata": {},
   "outputs": [],
   "source": [
    "def load_data(path: str): \n",
    "    path = bytes.decode(path.numpy())\n",
    "    #file_name = path.split('/')[-1].split('.')[0]\n",
    "    # File name splitting for windows\n",
    "    file_name = path.split('\\\\')[-1].split('.')[0]\n",
    "    video_path = os.path.join('data','s1',f'{file_name}.mpg')\n",
    "    alignment_path = os.path.join('data','alignments','s1',f'{file_name}.align')\n",
    "    frames = load_video(video_path) \n",
    "    alignments = load_alignments(alignment_path)\n",
    "    \n",
    "    return frames, alignments"
   ]
  },
  {
   "cell_type": "code",
   "execution_count": 16,
   "metadata": {},
   "outputs": [],
   "source": [
    "test_path = '.\\\\data\\\\s1\\\\bbal6n.mpg'"
   ]
  },
  {
   "cell_type": "code",
   "execution_count": 17,
   "metadata": {},
   "outputs": [
    {
     "data": {
      "text/plain": [
       "'bbal6n'"
      ]
     },
     "execution_count": 17,
     "metadata": {},
     "output_type": "execute_result"
    }
   ],
   "source": [
    "tf.convert_to_tensor(test_path).numpy().decode('utf-8').split('\\\\')[-1].split('.')[0]"
   ]
  },
  {
   "cell_type": "code",
   "execution_count": 18,
   "metadata": {},
   "outputs": [],
   "source": [
    "frames, alignments = load_data(tf.convert_to_tensor(test_path))"
   ]
  },
  {
   "cell_type": "code",
   "execution_count": 19,
   "metadata": {},
   "outputs": [
    {
     "data": {
      "text/plain": [
       "<matplotlib.image.AxesImage at 0x2a8710ba700>"
      ]
     },
     "execution_count": 19,
     "metadata": {},
     "output_type": "execute_result"
    },
    {
     "data": {
      "image/png": "[encoded data removed]",
      "text/plain": [
       "<Figure size 640x480 with 1 Axes>"
      ]
     },
     "metadata": {},
     "output_type": "display_data"
    }
   ],
   "source": [
    "plt.imshow(frames[40])"
   ]
  },
  {
   "cell_type": "code",
   "execution_count": 20,
   "metadata": {},
   "outputs": [
    {
     "data": {
      "text/plain": [
       "<tf.Tensor: shape=(21,), dtype=int64, numpy=\n",
       "array([ 2,  9, 14, 39,  2, 12, 21,  5, 39,  1, 20, 39, 12, 39, 19,  9, 24,\n",
       "       39, 14, 15, 23], dtype=int64)>"
      ]
     },
     "execution_count": 20,
     "metadata": {},
     "output_type": "execute_result"
    }
   ],
   "source": [
    "alignments"
   ]
  },
  {
   "cell_type": "code",
   "execution_count": 21,
   "metadata": {},
   "outputs": [
    {
     "data": {
      "text/plain": [
       "<tf.Tensor: shape=(), dtype=string, numpy=b'bin blue at l six now'>"
      ]
     },
     "execution_count": 21,
     "metadata": {},
     "output_type": "execute_result"
    }
   ],
   "source": [
    "tf.strings.reduce_join([bytes.decode(x) for x in num_to_char(alignments.numpy()).numpy()])"
   ]
  },
  {
   "cell_type": "code",
   "execution_count": 22,
   "metadata": {},
   "outputs": [],
   "source": [
    "def mappable_function(path:str) ->List[str]:\n",
    "    result = tf.py_function(load_data, [path], (tf.float32, tf.int64))\n",
    "    return result"
   ]
  },
  {
   "attachments": {},
   "cell_type": "markdown",
   "metadata": {},
   "source": [
    "2. Create Data Pipeline\n"
   ]
  },
  {
   "cell_type": "code",
   "execution_count": 23,
   "metadata": {},
   "outputs": [],
   "source": [
    "from matplotlib import pyplot as plt"
   ]
  },
  {
   "cell_type": "code",
   "execution_count": 24,
   "metadata": {},
   "outputs": [],
   "source": [
    "data = tf.data.Dataset.list_files('./data/s1/*.mpg')\n",
    "data = data.shuffle(500, reshuffle_each_iteration=False)\n",
    "data = data.map(mappable_function)\n",
    "data = data.padded_batch(2, padded_shapes=([75,None,None,None],[40]))\n",
    "data = data.prefetch(tf.data.AUTOTUNE)\n",
    "# Added for split \n",
    "train = data.take(450)\n",
    "test = data.skip(450)"
   ]
  },
  {
   "cell_type": "code",
   "execution_count": 25,
   "metadata": {},
   "outputs": [
    {
     "data": {
      "text/plain": [
       "50"
      ]
     },
     "execution_count": 25,
     "metadata": {},
     "output_type": "execute_result"
    }
   ],
   "source": [
    "len(test)"
   ]
  },
  {
   "cell_type": "code",
   "execution_count": 26,
   "metadata": {},
   "outputs": [],
   "source": [
    "frames, alignments = data .as_numpy_iterator().next()"
   ]
  },
  {
   "cell_type": "code",
   "execution_count": 27,
   "metadata": {},
   "outputs": [
    {
     "data": {
      "text/plain": [
       "2"
      ]
     },
     "execution_count": 27,
     "metadata": {},
     "output_type": "execute_result"
    }
   ],
   "source": [
    "len(frames)"
   ]
  },
  {
   "cell_type": "code",
   "execution_count": 28,
   "metadata": {},
   "outputs": [],
   "source": [
    "test = data.as_numpy_iterator()"
   ]
  },
  {
   "cell_type": "code",
   "execution_count": 29,
   "metadata": {},
   "outputs": [
    {
     "data": {
      "text/plain": [
       "array([[[[[1.2991995 ],\n",
       "          [1.2991995 ],\n",
       "          [1.2991995 ],\n",
       "          ...,\n",
       "          [9.017973  ],\n",
       "          [9.438302  ],\n",
       "          [9.514726  ]],\n",
       "\n",
       "         [[1.2991995 ],\n",
       "          [1.2991995 ],\n",
       "          [1.2991995 ],\n",
       "          ...,\n",
       "          [8.788702  ],\n",
       "          [9.438302  ],\n",
       "          [9.438302  ]],\n",
       "\n",
       "         [[1.2991995 ],\n",
       "          [1.2991995 ],\n",
       "          [1.2991995 ],\n",
       "          ...,\n",
       "          [9.438302  ],\n",
       "          [0.03821175],\n",
       "          [0.03821175]],\n",
       "\n",
       "         ...,\n",
       "\n",
       "         [[0.9552937 ],\n",
       "          [0.9552937 ],\n",
       "          [0.8788702 ],\n",
       "          ...,\n",
       "          [9.667572  ],\n",
       "          [9.705784  ],\n",
       "          [9.705784  ]],\n",
       "\n",
       "         [[0.9552937 ],\n",
       "          [0.9552937 ],\n",
       "          [0.8788702 ],\n",
       "          ...,\n",
       "          [9.62936   ],\n",
       "          [9.667572  ],\n",
       "          [9.705784  ]],\n",
       "\n",
       "         [[0.9552937 ],\n",
       "          [0.9552937 ],\n",
       "          [0.8788702 ],\n",
       "          ...,\n",
       "          [9.62936   ],\n",
       "          [9.667572  ],\n",
       "          [9.667572  ]]],\n",
       "\n",
       "\n",
       "        [[[1.2991995 ],\n",
       "          [1.2991995 ],\n",
       "          [1.2609876 ],\n",
       "          ...,\n",
       "          [8.75049   ],\n",
       "          [9.514726  ],\n",
       "          [9.514726  ]],\n",
       "\n",
       "         [[1.2991995 ],\n",
       "          [1.2991995 ],\n",
       "          [1.2609876 ],\n",
       "          ...,\n",
       "          [8.674067  ],\n",
       "          [9.40009   ],\n",
       "          [9.514726  ]],\n",
       "\n",
       "         [[1.2609876 ],\n",
       "          [1.2609876 ],\n",
       "          [1.2991995 ],\n",
       "          ...,\n",
       "          [9.40009   ],\n",
       "          [0.        ],\n",
       "          [0.        ]],\n",
       "\n",
       "         ...,\n",
       "\n",
       "         [[0.9552937 ],\n",
       "          [0.9552937 ],\n",
       "          [0.8788702 ],\n",
       "          ...,\n",
       "          [9.705784  ],\n",
       "          [9.667572  ],\n",
       "          [9.705784  ]],\n",
       "\n",
       "         [[0.9552937 ],\n",
       "          [0.9552937 ],\n",
       "          [0.8788702 ],\n",
       "          ...,\n",
       "          [9.62936   ],\n",
       "          [9.667572  ],\n",
       "          [9.743996  ]],\n",
       "\n",
       "         [[0.9552937 ],\n",
       "          [0.9552937 ],\n",
       "          [0.8788702 ],\n",
       "          ...,\n",
       "          [9.62936   ],\n",
       "          [9.667572  ],\n",
       "          [9.705784  ]]],\n",
       "\n",
       "\n",
       "        [[[1.2991995 ],\n",
       "          [1.2991995 ],\n",
       "          [1.2609876 ],\n",
       "          ...,\n",
       "          [8.826914  ],\n",
       "          [9.705784  ],\n",
       "          [9.62936   ]],\n",
       "\n",
       "         [[1.2991995 ],\n",
       "          [1.2991995 ],\n",
       "          [1.2609876 ],\n",
       "          ...,\n",
       "          [8.712278  ],\n",
       "          [9.514726  ],\n",
       "          [9.62936   ]],\n",
       "\n",
       "         [[1.3374112 ],\n",
       "          [1.3374112 ],\n",
       "          [1.3374112 ],\n",
       "          ...,\n",
       "          [9.361878  ],\n",
       "          [0.        ],\n",
       "          [0.        ]],\n",
       "\n",
       "         ...,\n",
       "\n",
       "         [[0.9935055 ],\n",
       "          [0.9935055 ],\n",
       "          [0.9552937 ],\n",
       "          ...,\n",
       "          [9.743996  ],\n",
       "          [9.743996  ],\n",
       "          [9.705784  ]],\n",
       "\n",
       "         [[0.9552937 ],\n",
       "          [0.9552937 ],\n",
       "          [0.91708195],\n",
       "          ...,\n",
       "          [9.62936   ],\n",
       "          [9.667572  ],\n",
       "          [9.743996  ]],\n",
       "\n",
       "         [[0.9552937 ],\n",
       "          [0.9552937 ],\n",
       "          [0.91708195],\n",
       "          ...,\n",
       "          [9.591148  ],\n",
       "          [9.667572  ],\n",
       "          [9.705784  ]]],\n",
       "\n",
       "\n",
       "        ...,\n",
       "\n",
       "\n",
       "        [[[1.3374112 ],\n",
       "          [1.3374112 ],\n",
       "          [1.2609876 ],\n",
       "          ...,\n",
       "          [0.45854098],\n",
       "          [9.514726  ],\n",
       "          [9.247243  ]],\n",
       "\n",
       "         [[1.2991995 ],\n",
       "          [1.2991995 ],\n",
       "          [1.2227759 ],\n",
       "          ...,\n",
       "          [9.743996  ],\n",
       "          [9.094396  ],\n",
       "          [9.247243  ]],\n",
       "\n",
       "         [[1.2991995 ],\n",
       "          [1.2991995 ],\n",
       "          [1.2991995 ],\n",
       "          ...,\n",
       "          [9.170819  ],\n",
       "          [9.62936   ],\n",
       "          [9.667572  ]],\n",
       "\n",
       "         ...,\n",
       "\n",
       "         [[0.8788702 ],\n",
       "          [0.8788702 ],\n",
       "          [0.8788702 ],\n",
       "          ...,\n",
       "          [0.03821175],\n",
       "          [0.        ],\n",
       "          [0.        ]],\n",
       "\n",
       "         [[0.8788702 ],\n",
       "          [0.8788702 ],\n",
       "          [0.8788702 ],\n",
       "          ...,\n",
       "          [9.705784  ],\n",
       "          [0.        ],\n",
       "          [9.743996  ]],\n",
       "\n",
       "         [[0.8788702 ],\n",
       "          [0.8788702 ],\n",
       "          [0.8788702 ],\n",
       "          ...,\n",
       "          [9.667572  ],\n",
       "          [9.743996  ],\n",
       "          [9.705784  ]]],\n",
       "\n",
       "\n",
       "        [[[1.2991995 ],\n",
       "          [1.2991995 ],\n",
       "          [1.2991995 ],\n",
       "          ...,\n",
       "          [0.42032924],\n",
       "          [9.476514  ],\n",
       "          [9.323667  ]],\n",
       "\n",
       "         [[1.2991995 ],\n",
       "          [1.2991995 ],\n",
       "          [1.2991995 ],\n",
       "          ...,\n",
       "          [9.361878  ],\n",
       "          [9.247243  ],\n",
       "          [9.323667  ]],\n",
       "\n",
       "         [[1.2991995 ],\n",
       "          [1.2991995 ],\n",
       "          [1.2991995 ],\n",
       "          ...,\n",
       "          [8.979761  ],\n",
       "          [9.667572  ],\n",
       "          [9.705784  ]],\n",
       "\n",
       "         ...,\n",
       "\n",
       "         [[0.8788702 ],\n",
       "          [0.8788702 ],\n",
       "          [0.8788702 ],\n",
       "          ...,\n",
       "          [0.0764235 ],\n",
       "          [0.        ],\n",
       "          [0.03821175]],\n",
       "\n",
       "         [[0.8788702 ],\n",
       "          [0.8788702 ],\n",
       "          [0.8788702 ],\n",
       "          ...,\n",
       "          [9.705784  ],\n",
       "          [9.743996  ],\n",
       "          [9.743996  ]],\n",
       "\n",
       "         [[0.8788702 ],\n",
       "          [0.8788702 ],\n",
       "          [0.8788702 ],\n",
       "          ...,\n",
       "          [9.667572  ],\n",
       "          [9.705784  ],\n",
       "          [9.705784  ]]],\n",
       "\n",
       "\n",
       "        [[[1.3374112 ],\n",
       "          [1.3374112 ],\n",
       "          [1.3374112 ],\n",
       "          ...,\n",
       "          [0.22927049],\n",
       "          [9.361878  ],\n",
       "          [9.40009   ]],\n",
       "\n",
       "         [[1.3374112 ],\n",
       "          [1.3374112 ],\n",
       "          [1.3374112 ],\n",
       "          ...,\n",
       "          [9.247243  ],\n",
       "          [9.209031  ],\n",
       "          [9.40009   ]],\n",
       "\n",
       "         [[1.2991995 ],\n",
       "          [1.2991995 ],\n",
       "          [1.2991995 ],\n",
       "          ...,\n",
       "          [8.941549  ],\n",
       "          [9.62936   ],\n",
       "          [9.705784  ]],\n",
       "\n",
       "         ...,\n",
       "\n",
       "         [[0.91708195],\n",
       "          [0.91708195],\n",
       "          [0.91708195],\n",
       "          ...,\n",
       "          [0.0764235 ],\n",
       "          [9.743996  ],\n",
       "          [9.743996  ]],\n",
       "\n",
       "         [[0.8788702 ],\n",
       "          [0.8788702 ],\n",
       "          [0.8788702 ],\n",
       "          ...,\n",
       "          [9.705784  ],\n",
       "          [9.667572  ],\n",
       "          [9.705784  ]],\n",
       "\n",
       "         [[0.8788702 ],\n",
       "          [0.8788702 ],\n",
       "          [0.8788702 ],\n",
       "          ...,\n",
       "          [9.667572  ],\n",
       "          [9.667572  ],\n",
       "          [9.705784  ]]]],\n",
       "\n",
       "\n",
       "\n",
       "       [[[[1.3267646 ],\n",
       "          [1.3267646 ],\n",
       "          [1.3267646 ],\n",
       "          ...,\n",
       "          [8.513406  ],\n",
       "          [9.029369  ],\n",
       "          [9.176788  ]],\n",
       "\n",
       "         [[1.3267646 ],\n",
       "          [1.3267646 ],\n",
       "          [1.3267646 ],\n",
       "          ...,\n",
       "          [8.218569  ],\n",
       "          [8.623969  ],\n",
       "          [8.623969  ]],\n",
       "\n",
       "         [[1.2530555 ],\n",
       "          [1.2530555 ],\n",
       "          [1.2530555 ],\n",
       "          ...,\n",
       "          [8.955661  ],\n",
       "          [9.103079  ],\n",
       "          [9.103079  ]],\n",
       "\n",
       "         ...,\n",
       "\n",
       "         [[0.9582188 ],\n",
       "          [0.9582188 ],\n",
       "          [0.9582188 ],\n",
       "          ...,\n",
       "          [9.324206  ],\n",
       "          [9.287352  ],\n",
       "          [9.287352  ]],\n",
       "\n",
       "         [[0.92136425],\n",
       "          [0.92136425],\n",
       "          [0.92136425],\n",
       "          ...,\n",
       "          [9.213643  ],\n",
       "          [9.213643  ],\n",
       "          [9.213643  ]],\n",
       "\n",
       "         [[0.92136425],\n",
       "          [0.92136425],\n",
       "          [0.92136425],\n",
       "          ...,\n",
       "          [9.213643  ],\n",
       "          [9.213643  ],\n",
       "          [9.213643  ]]],\n",
       "\n",
       "\n",
       "        [[[1.28991   ],\n",
       "          [1.28991   ],\n",
       "          [1.2530555 ],\n",
       "          ...,\n",
       "          [8.623969  ],\n",
       "          [9.139934  ],\n",
       "          [9.176788  ]],\n",
       "\n",
       "         [[1.28991   ],\n",
       "          [1.28991   ],\n",
       "          [1.2530555 ],\n",
       "          ...,\n",
       "          [8.14486   ],\n",
       "          [8.439696  ],\n",
       "          [8.4028425 ]],\n",
       "\n",
       "         [[1.2530555 ],\n",
       "          [1.2530555 ],\n",
       "          [1.2530555 ],\n",
       "          ...,\n",
       "          [8.845097  ],\n",
       "          [9.029369  ],\n",
       "          [9.029369  ]],\n",
       "\n",
       "         ...,\n",
       "\n",
       "         [[0.92136425],\n",
       "          [0.92136425],\n",
       "          [0.92136425],\n",
       "          ...,\n",
       "          [9.324206  ],\n",
       "          [9.287352  ],\n",
       "          [9.287352  ]],\n",
       "\n",
       "         [[0.92136425],\n",
       "          [0.92136425],\n",
       "          [0.92136425],\n",
       "          ...,\n",
       "          [9.213643  ],\n",
       "          [9.213643  ],\n",
       "          [9.213643  ]],\n",
       "\n",
       "         [[0.8845097 ],\n",
       "          [0.8845097 ],\n",
       "          [0.8845097 ],\n",
       "          ...,\n",
       "          [9.213643  ],\n",
       "          [9.213643  ],\n",
       "          [9.213643  ]]],\n",
       "\n",
       "\n",
       "        [[[1.28991   ],\n",
       "          [1.28991   ],\n",
       "          [1.2530555 ],\n",
       "          ...,\n",
       "          [8.513406  ],\n",
       "          [9.139934  ],\n",
       "          [9.250497  ]],\n",
       "\n",
       "         [[1.28991   ],\n",
       "          [1.28991   ],\n",
       "          [1.2530555 ],\n",
       "          ...,\n",
       "          [8.181715  ],\n",
       "          [8.4028425 ],\n",
       "          [8.439696  ]],\n",
       "\n",
       "         [[1.2530555 ],\n",
       "          [1.2530555 ],\n",
       "          [1.2530555 ],\n",
       "          ...,\n",
       "          [8.771388  ],\n",
       "          [8.955661  ],\n",
       "          [8.992516  ]],\n",
       "\n",
       "         ...,\n",
       "\n",
       "         [[0.8845097 ],\n",
       "          [0.8845097 ],\n",
       "          [0.8845097 ],\n",
       "          ...,\n",
       "          [9.287352  ],\n",
       "          [9.287352  ],\n",
       "          [9.287352  ]],\n",
       "\n",
       "         [[0.8845097 ],\n",
       "          [0.8845097 ],\n",
       "          [0.8845097 ],\n",
       "          ...,\n",
       "          [9.213643  ],\n",
       "          [9.213643  ],\n",
       "          [9.213643  ]],\n",
       "\n",
       "         [[0.8476551 ],\n",
       "          [0.8476551 ],\n",
       "          [0.8476551 ],\n",
       "          ...,\n",
       "          [9.213643  ],\n",
       "          [9.213643  ],\n",
       "          [9.213643  ]]],\n",
       "\n",
       "\n",
       "        ...,\n",
       "\n",
       "\n",
       "        [[[1.3267646 ],\n",
       "          [1.28991   ],\n",
       "          [1.28991   ],\n",
       "          ...,\n",
       "          [8.623969  ],\n",
       "          [8.660824  ],\n",
       "          [8.476551  ]],\n",
       "\n",
       "         [[1.3267646 ],\n",
       "          [1.28991   ],\n",
       "          [1.28991   ],\n",
       "          ...,\n",
       "          [8.513406  ],\n",
       "          [8.845097  ],\n",
       "          [8.587115  ]],\n",
       "\n",
       "         [[1.2530555 ],\n",
       "          [1.2530555 ],\n",
       "          [1.2530555 ],\n",
       "          ...,\n",
       "          [8.808243  ],\n",
       "          [9.324206  ],\n",
       "          [0.03685457]],\n",
       "\n",
       "         ...,\n",
       "\n",
       "         [[0.92136425],\n",
       "          [0.92136425],\n",
       "          [0.92136425],\n",
       "          ...,\n",
       "          [9.176788  ],\n",
       "          [9.213643  ],\n",
       "          [9.287352  ]],\n",
       "\n",
       "         [[0.92136425],\n",
       "          [0.92136425],\n",
       "          [0.92136425],\n",
       "          ...,\n",
       "          [9.103079  ],\n",
       "          [9.250497  ],\n",
       "          [9.176788  ]],\n",
       "\n",
       "         [[0.92136425],\n",
       "          [0.92136425],\n",
       "          [0.8845097 ],\n",
       "          ...,\n",
       "          [9.103079  ],\n",
       "          [9.250497  ],\n",
       "          [9.176788  ]]],\n",
       "\n",
       "\n",
       "        [[[1.3267646 ],\n",
       "          [1.28991   ],\n",
       "          [1.28991   ],\n",
       "          ...,\n",
       "          [8.660824  ],\n",
       "          [8.697679  ],\n",
       "          [8.587115  ]],\n",
       "\n",
       "         [[1.3267646 ],\n",
       "          [1.28991   ],\n",
       "          [1.28991   ],\n",
       "          ...,\n",
       "          [8.4028425 ],\n",
       "          [8.771388  ],\n",
       "          [8.623969  ]],\n",
       "\n",
       "         [[1.2530555 ],\n",
       "          [1.2530555 ],\n",
       "          [1.2530555 ],\n",
       "          ...,\n",
       "          [8.697679  ],\n",
       "          [9.397916  ],\n",
       "          [0.03685457]],\n",
       "\n",
       "         ...,\n",
       "\n",
       "         [[0.92136425],\n",
       "          [0.92136425],\n",
       "          [0.92136425],\n",
       "          ...,\n",
       "          [9.250497  ],\n",
       "          [9.287352  ],\n",
       "          [9.324206  ]],\n",
       "\n",
       "         [[0.92136425],\n",
       "          [0.92136425],\n",
       "          [0.8845097 ],\n",
       "          ...,\n",
       "          [9.176788  ],\n",
       "          [9.287352  ],\n",
       "          [9.250497  ]],\n",
       "\n",
       "         [[0.92136425],\n",
       "          [0.8845097 ],\n",
       "          [0.8845097 ],\n",
       "          ...,\n",
       "          [9.176788  ],\n",
       "          [9.287352  ],\n",
       "          [9.250497  ]]],\n",
       "\n",
       "\n",
       "        [[[1.3267646 ],\n",
       "          [1.28991   ],\n",
       "          [1.28991   ],\n",
       "          ...,\n",
       "          [8.697679  ],\n",
       "          [8.697679  ],\n",
       "          [8.587115  ]],\n",
       "\n",
       "         [[1.3267646 ],\n",
       "          [1.28991   ],\n",
       "          [1.28991   ],\n",
       "          ...,\n",
       "          [8.329133  ],\n",
       "          [8.808243  ],\n",
       "          [8.697679  ]],\n",
       "\n",
       "         [[1.2530555 ],\n",
       "          [1.2530555 ],\n",
       "          [1.2530555 ],\n",
       "          ...,\n",
       "          [8.771388  ],\n",
       "          [9.324206  ],\n",
       "          [0.03685457]],\n",
       "\n",
       "         ...,\n",
       "\n",
       "         [[0.92136425],\n",
       "          [0.92136425],\n",
       "          [0.92136425],\n",
       "          ...,\n",
       "          [9.287352  ],\n",
       "          [9.250497  ],\n",
       "          [9.324206  ]],\n",
       "\n",
       "         [[0.92136425],\n",
       "          [0.92136425],\n",
       "          [0.8845097 ],\n",
       "          ...,\n",
       "          [9.250497  ],\n",
       "          [9.287352  ],\n",
       "          [9.139934  ]],\n",
       "\n",
       "         [[0.92136425],\n",
       "          [0.8845097 ],\n",
       "          [0.8845097 ],\n",
       "          ...,\n",
       "          [9.213643  ],\n",
       "          [9.213643  ],\n",
       "          [9.139934  ]]]]], dtype=float32)"
      ]
     },
     "execution_count": 29,
     "metadata": {},
     "output_type": "execute_result"
    }
   ],
   "source": [
    "val = test.next(); val[0]"
   ]
  },
  {
   "cell_type": "code",
   "execution_count": 30,
   "metadata": {},
   "outputs": [
    {
     "name": "stderr",
     "output_type": "stream",
     "text": [
      "Lossy conversion from float32 to uint8. Range [0.0, 9.743995666503906]. Convert image to uint8 prior to saving to suppress this warning.\n",
      "Lossy conversion from float32 to uint8. Range [0.0, 9.743995666503906]. Convert image to uint8 prior to saving to suppress this warning.\n",
      "Lossy conversion from float32 to uint8. Range [0.0, 9.743995666503906]. Convert image to uint8 prior to saving to suppress this warning.\n",
      "Lossy conversion from float32 to uint8. Range [0.0, 9.743995666503906]. Convert image to uint8 prior to saving to suppress this warning.\n",
      "Lossy conversion from float32 to uint8. Range [0.0, 9.743995666503906]. Convert image to uint8 prior to saving to suppress this warning.\n",
      "Lossy conversion from float32 to uint8. Range [0.0, 9.743995666503906]. Convert image to uint8 prior to saving to suppress this warning.\n",
      "Lossy conversion from float32 to uint8. Range [0.0, 9.743995666503906]. Convert image to uint8 prior to saving to suppress this warning.\n",
      "Lossy conversion from float32 to uint8. Range [0.0, 9.743995666503906]. Convert image to uint8 prior to saving to suppress this warning.\n",
      "Lossy conversion from float32 to uint8. Range [0.0, 9.743995666503906]. Convert image to uint8 prior to saving to suppress this warning.\n",
      "Lossy conversion from float32 to uint8. Range [0.0, 9.743995666503906]. Convert image to uint8 prior to saving to suppress this warning.\n",
      "Lossy conversion from float32 to uint8. Range [0.0, 9.743995666503906]. Convert image to uint8 prior to saving to suppress this warning.\n",
      "Lossy conversion from float32 to uint8. Range [0.0, 9.743995666503906]. Convert image to uint8 prior to saving to suppress this warning.\n",
      "Lossy conversion from float32 to uint8. Range [0.0, 9.743995666503906]. Convert image to uint8 prior to saving to suppress this warning.\n",
      "Lossy conversion from float32 to uint8. Range [0.0, 9.743995666503906]. Convert image to uint8 prior to saving to suppress this warning.\n",
      "Lossy conversion from float32 to uint8. Range [0.0, 9.743995666503906]. Convert image to uint8 prior to saving to suppress this warning.\n",
      "Lossy conversion from float32 to uint8. Range [0.0, 9.743995666503906]. Convert image to uint8 prior to saving to suppress this warning.\n",
      "Lossy conversion from float32 to uint8. Range [0.0, 9.743995666503906]. Convert image to uint8 prior to saving to suppress this warning.\n",
      "Lossy conversion from float32 to uint8. Range [0.0, 9.743995666503906]. Convert image to uint8 prior to saving to suppress this warning.\n",
      "Lossy conversion from float32 to uint8. Range [0.0, 9.743995666503906]. Convert image to uint8 prior to saving to suppress this warning.\n",
      "Lossy conversion from float32 to uint8. Range [0.0, 9.743995666503906]. Convert image to uint8 prior to saving to suppress this warning.\n",
      "Lossy conversion from float32 to uint8. Range [0.0, 9.743995666503906]. Convert image to uint8 prior to saving to suppress this warning.\n",
      "Lossy conversion from float32 to uint8. Range [0.0, 9.743995666503906]. Convert image to uint8 prior to saving to suppress this warning.\n",
      "Lossy conversion from float32 to uint8. Range [0.0, 9.743995666503906]. Convert image to uint8 prior to saving to suppress this warning.\n",
      "Lossy conversion from float32 to uint8. Range [0.0, 9.743995666503906]. Convert image to uint8 prior to saving to suppress this warning.\n",
      "Lossy conversion from float32 to uint8. Range [0.0, 9.743995666503906]. Convert image to uint8 prior to saving to suppress this warning.\n",
      "Lossy conversion from float32 to uint8. Range [0.0, 9.743995666503906]. Convert image to uint8 prior to saving to suppress this warning.\n",
      "Lossy conversion from float32 to uint8. Range [0.0, 9.743995666503906]. Convert image to uint8 prior to saving to suppress this warning.\n",
      "Lossy conversion from float32 to uint8. Range [0.0, 9.743995666503906]. Convert image to uint8 prior to saving to suppress this warning.\n",
      "Lossy conversion from float32 to uint8. Range [0.0, 9.743995666503906]. Convert image to uint8 prior to saving to suppress this warning.\n",
      "Lossy conversion from float32 to uint8. Range [0.0, 9.743995666503906]. Convert image to uint8 prior to saving to suppress this warning.\n",
      "Lossy conversion from float32 to uint8. Range [0.0, 9.743995666503906]. Convert image to uint8 prior to saving to suppress this warning.\n",
      "Lossy conversion from float32 to uint8. Range [0.0, 9.743995666503906]. Convert image to uint8 prior to saving to suppress this warning.\n",
      "Lossy conversion from float32 to uint8. Range [0.0, 9.743995666503906]. Convert image to uint8 prior to saving to suppress this warning.\n",
      "Lossy conversion from float32 to uint8. Range [0.0, 9.743995666503906]. Convert image to uint8 prior to saving to suppress this warning.\n",
      "Lossy conversion from float32 to uint8. Range [0.0, 9.743995666503906]. Convert image to uint8 prior to saving to suppress this warning.\n",
      "Lossy conversion from float32 to uint8. Range [0.0, 9.743995666503906]. Convert image to uint8 prior to saving to suppress this warning.\n",
      "Lossy conversion from float32 to uint8. Range [0.0, 9.743995666503906]. Convert image to uint8 prior to saving to suppress this warning.\n",
      "Lossy conversion from float32 to uint8. Range [0.0, 9.743995666503906]. Convert image to uint8 prior to saving to suppress this warning.\n",
      "Lossy conversion from float32 to uint8. Range [0.0, 9.743995666503906]. Convert image to uint8 prior to saving to suppress this warning.\n",
      "Lossy conversion from float32 to uint8. Range [0.0, 9.743995666503906]. Convert image to uint8 prior to saving to suppress this warning.\n",
      "Lossy conversion from float32 to uint8. Range [0.0, 9.743995666503906]. Convert image to uint8 prior to saving to suppress this warning.\n",
      "Lossy conversion from float32 to uint8. Range [0.0, 9.743995666503906]. Convert image to uint8 prior to saving to suppress this warning.\n",
      "Lossy conversion from float32 to uint8. Range [0.0, 9.743995666503906]. Convert image to uint8 prior to saving to suppress this warning.\n",
      "Lossy conversion from float32 to uint8. Range [0.0, 9.743995666503906]. Convert image to uint8 prior to saving to suppress this warning.\n",
      "Lossy conversion from float32 to uint8. Range [0.0, 9.743995666503906]. Convert image to uint8 prior to saving to suppress this warning.\n",
      "Lossy conversion from float32 to uint8. Range [0.0, 9.743995666503906]. Convert image to uint8 prior to saving to suppress this warning.\n",
      "Lossy conversion from float32 to uint8. Range [0.0, 9.743995666503906]. Convert image to uint8 prior to saving to suppress this warning.\n",
      "Lossy conversion from float32 to uint8. Range [0.0, 9.743995666503906]. Convert image to uint8 prior to saving to suppress this warning.\n",
      "Lossy conversion from float32 to uint8. Range [0.0, 9.743995666503906]. Convert image to uint8 prior to saving to suppress this warning.\n",
      "Lossy conversion from float32 to uint8. Range [0.0, 9.743995666503906]. Convert image to uint8 prior to saving to suppress this warning.\n",
      "Lossy conversion from float32 to uint8. Range [0.0, 9.743995666503906]. Convert image to uint8 prior to saving to suppress this warning.\n",
      "Lossy conversion from float32 to uint8. Range [0.0, 9.743995666503906]. Convert image to uint8 prior to saving to suppress this warning.\n",
      "Lossy conversion from float32 to uint8. Range [0.0, 9.743995666503906]. Convert image to uint8 prior to saving to suppress this warning.\n",
      "Lossy conversion from float32 to uint8. Range [0.0, 9.743995666503906]. Convert image to uint8 prior to saving to suppress this warning.\n",
      "Lossy conversion from float32 to uint8. Range [0.0, 9.743995666503906]. Convert image to uint8 prior to saving to suppress this warning.\n",
      "Lossy conversion from float32 to uint8. Range [0.0, 9.743995666503906]. Convert image to uint8 prior to saving to suppress this warning.\n",
      "Lossy conversion from float32 to uint8. Range [0.0, 9.743995666503906]. Convert image to uint8 prior to saving to suppress this warning.\n",
      "Lossy conversion from float32 to uint8. Range [0.0, 9.743995666503906]. Convert image to uint8 prior to saving to suppress this warning.\n",
      "Lossy conversion from float32 to uint8. Range [0.0, 9.743995666503906]. Convert image to uint8 prior to saving to suppress this warning.\n",
      "Lossy conversion from float32 to uint8. Range [0.0, 9.743995666503906]. Convert image to uint8 prior to saving to suppress this warning.\n",
      "Lossy conversion from float32 to uint8. Range [0.0, 9.743995666503906]. Convert image to uint8 prior to saving to suppress this warning.\n",
      "Lossy conversion from float32 to uint8. Range [0.0, 9.743995666503906]. Convert image to uint8 prior to saving to suppress this warning.\n",
      "Lossy conversion from float32 to uint8. Range [0.0, 9.743995666503906]. Convert image to uint8 prior to saving to suppress this warning.\n",
      "Lossy conversion from float32 to uint8. Range [0.0, 9.743995666503906]. Convert image to uint8 prior to saving to suppress this warning.\n",
      "Lossy conversion from float32 to uint8. Range [0.0, 9.743995666503906]. Convert image to uint8 prior to saving to suppress this warning.\n",
      "Lossy conversion from float32 to uint8. Range [0.0, 9.743995666503906]. Convert image to uint8 prior to saving to suppress this warning.\n",
      "Lossy conversion from float32 to uint8. Range [0.0, 9.743995666503906]. Convert image to uint8 prior to saving to suppress this warning.\n",
      "Lossy conversion from float32 to uint8. Range [0.0, 9.743995666503906]. Convert image to uint8 prior to saving to suppress this warning.\n",
      "Lossy conversion from float32 to uint8. Range [0.0, 9.743995666503906]. Convert image to uint8 prior to saving to suppress this warning.\n",
      "Lossy conversion from float32 to uint8. Range [0.0, 9.743995666503906]. Convert image to uint8 prior to saving to suppress this warning.\n",
      "Lossy conversion from float32 to uint8. Range [0.0, 9.743995666503906]. Convert image to uint8 prior to saving to suppress this warning.\n",
      "Lossy conversion from float32 to uint8. Range [0.0, 9.743995666503906]. Convert image to uint8 prior to saving to suppress this warning.\n",
      "Lossy conversion from float32 to uint8. Range [0.0, 9.743995666503906]. Convert image to uint8 prior to saving to suppress this warning.\n",
      "Lossy conversion from float32 to uint8. Range [0.0, 9.743995666503906]. Convert image to uint8 prior to saving to suppress this warning.\n",
      "Lossy conversion from float32 to uint8. Range [0.0, 9.743995666503906]. Convert image to uint8 prior to saving to suppress this warning.\n"
     ]
    }
   ],
   "source": [
    "imageio.mimsave('./animation.gif', val[0][0], fps=10)"
   ]
  },
  {
   "cell_type": "code",
   "execution_count": 31,
   "metadata": {},
   "outputs": [
    {
     "data": {
      "text/plain": [
       "<matplotlib.image.AxesImage at 0x2a877591cd0>"
      ]
     },
     "execution_count": 31,
     "metadata": {},
     "output_type": "execute_result"
    },
    {
     "data": {
      "image/png": "[encoded data removed]",
      "text/plain": [
       "<Figure size 640x480 with 1 Axes>"
      ]
     },
     "metadata": {},
     "output_type": "display_data"
    }
   ],
   "source": [
    "# 0:videos, 0: 1st video out of the batch,  35: return the 35th frame in the video \n",
    "plt.imshow(val[0][0][35])"
   ]
  },
  {
   "cell_type": "code",
   "execution_count": 32,
   "metadata": {},
   "outputs": [
    {
     "data": {
      "text/plain": [
       "<tf.Tensor: shape=(), dtype=string, numpy=b'place white by y one again'>"
      ]
     },
     "execution_count": 32,
     "metadata": {},
     "output_type": "execute_result"
    }
   ],
   "source": [
    "tf.strings.reduce_join([num_to_char(word) for word in val[1][0]])"
   ]
  },
  {
   "attachments": {},
   "cell_type": "markdown",
   "metadata": {},
   "source": [
    "3. Design a Deep Neural Network"
   ]
  },
  {
   "cell_type": "code",
   "execution_count": 33,
   "metadata": {},
   "outputs": [],
   "source": [
    "from tensorflow import keras\n",
    "from keras.models import Sequential \n",
    "from keras.layers import Conv3D, LSTM, Dense, Dropout, Bidirectional, MaxPool3D, Activation, Reshape, SpatialDropout3D, BatchNormalization, TimeDistributed, Flatten\n",
    "from keras.optimizers import Adam\n",
    "from keras.callbacks import ModelCheckpoint, LearningRateScheduler"
   ]
  },
  {
   "cell_type": "code",
   "execution_count": 34,
   "metadata": {},
   "outputs": [
    {
     "data": {
      "text/plain": [
       "(75, 46, 140, 1)"
      ]
     },
     "execution_count": 34,
     "metadata": {},
     "output_type": "execute_result"
    }
   ],
   "source": [
    "data.as_numpy_iterator().next()[0][0].shape"
   ]
  },
  {
   "cell_type": "code",
   "execution_count": 35,
   "metadata": {},
   "outputs": [],
   "source": [
    "model = Sequential()\n",
    "model.add(Conv3D(128, 3, input_shape=(75,46,140,1), padding='same'))\n",
    "model.add(Activation('relu'))\n",
    "model.add(MaxPool3D((1,2,2)))\n",
    "\n",
    "model.add(Conv3D(256, 3, padding='same'))\n",
    "model.add(Activation('relu'))\n",
    "model.add(MaxPool3D((1,2,2)))\n",
    "\n",
    "model.add(Conv3D(75, 3, padding='same'))\n",
    "model.add(Activation('relu'))\n",
    "model.add(MaxPool3D((1,2,2)))\n",
    "\n",
    "model.add(TimeDistributed(Flatten()))\n",
    "\n",
    "model.add(Bidirectional(LSTM(128, kernel_initializer='Orthogonal', return_sequences=True)))\n",
    "model.add(Dropout(.5))\n",
    "\n",
    "model.add(Bidirectional(LSTM(128, kernel_initializer='Orthogonal', return_sequences=True)))\n",
    "model.add(Dropout(.5))\n",
    "\n",
    "model.add(Dense(char_to_num.vocabulary_size()+1, kernel_initializer='he_normal', activation='softmax'))"
   ]
  },
  {
   "cell_type": "code",
   "execution_count": 36,
   "metadata": {},
   "outputs": [
    {
     "name": "stdout",
     "output_type": "stream",
     "text": [
      "Model: \"sequential\"\n",
      "_________________________________________________________________\n",
      " Layer (type)                Output Shape              Param #   \n",
      "=================================================================\n",
      " conv3d (Conv3D)             (None, 75, 46, 140, 128)  3584      \n",
      "                                                                 \n",
      " activation (Activation)     (None, 75, 46, 140, 128)  0         \n",
      "                                                                 \n",
      " max_pooling3d (MaxPooling3D  (None, 75, 23, 70, 128)  0         \n",
      " )                                                               \n",
      "                                                                 \n",
      " conv3d_1 (Conv3D)           (None, 75, 23, 70, 256)   884992    \n",
      "                                                                 \n",
      " activation_1 (Activation)   (None, 75, 23, 70, 256)   0         \n",
      "                                                                 \n",
      " max_pooling3d_1 (MaxPooling  (None, 75, 11, 35, 256)  0         \n",
      " 3D)                                                             \n",
      "                                                                 \n",
      " conv3d_2 (Conv3D)           (None, 75, 11, 35, 75)    518475    \n",
      "                                                                 \n",
      " activation_2 (Activation)   (None, 75, 11, 35, 75)    0         \n",
      "                                                                 \n",
      " max_pooling3d_2 (MaxPooling  (None, 75, 5, 17, 75)    0         \n",
      " 3D)                                                             \n",
      "                                                                 \n",
      " time_distributed (TimeDistr  (None, 75, 6375)         0         \n",
      " ibuted)                                                         \n",
      "                                                                 \n",
      " bidirectional (Bidirectiona  (None, 75, 256)          6660096   \n",
      " l)                                                              \n",
      "                                                                 \n",
      " dropout (Dropout)           (None, 75, 256)           0         \n",
      "                                                                 \n",
      " bidirectional_1 (Bidirectio  (None, 75, 256)          394240    \n",
      " nal)                                                            \n",
      "                                                                 \n",
      " dropout_1 (Dropout)         (None, 75, 256)           0         \n",
      "                                                                 \n",
      " dense (Dense)               (None, 75, 41)            10537     \n",
      "                                                                 \n",
      "=================================================================\n",
      "Total params: 8,471,924\n",
      "Trainable params: 8,471,924\n",
      "Non-trainable params: 0\n",
      "_________________________________________________________________\n"
     ]
    }
   ],
   "source": [
    "model.summary()"
   ]
  },
  {
   "cell_type": "code",
   "execution_count": 40,
   "metadata": {},
   "outputs": [
    {
     "name": "stdout",
     "output_type": "stream",
     "text": [
      "1/1 [==============================] - 5s 5s/step\n"
     ]
    }
   ],
   "source": [
    "yhat = model.predict(val[0])"
   ]
  },
  {
   "cell_type": "code",
   "execution_count": 41,
   "metadata": {},
   "outputs": [
    {
     "data": {
      "text/plain": [
       "<tf.Tensor: shape=(), dtype=string, numpy=b'iiiiiiiiiiiiiiiiiiiiiiiiiiiiiiiiiiiiiiiiiiiiiiiiiiiiiiiiiiiiiiiiiiiiiiiiiii'>"
      ]
     },
     "execution_count": 41,
     "metadata": {},
     "output_type": "execute_result"
    }
   ],
   "source": [
    "tf.strings.reduce_join([num_to_char(x) for x in tf.argmax(yhat[0],axis=1)])"
   ]
  },
  {
   "cell_type": "code",
   "execution_count": 42,
   "metadata": {},
   "outputs": [
    {
     "data": {
      "text/plain": [
       "<tf.Tensor: shape=(), dtype=string, numpy=b'iiiiiiiiiiiiiiiiiiiiiiiiiiiiiiiiiiiiiiiiiiiiiiiiiiiiiiiiiiiiiiiiiiiiiiiiiii'>"
      ]
     },
     "execution_count": 42,
     "metadata": {},
     "output_type": "execute_result"
    }
   ],
   "source": [
    "tf.strings.reduce_join([num_to_char(tf.argmax(x)) for x in yhat[0]])"
   ]
  },
  {
   "cell_type": "code",
   "execution_count": 43,
   "metadata": {},
   "outputs": [
    {
     "data": {
      "text/plain": [
       "(None, 75, 46, 140, 1)"
      ]
     },
     "execution_count": 43,
     "metadata": {},
     "output_type": "execute_result"
    }
   ],
   "source": [
    "model.input_shape"
   ]
  },
  {
   "cell_type": "code",
   "execution_count": 44,
   "metadata": {},
   "outputs": [
    {
     "data": {
      "text/plain": [
       "(None, 75, 41)"
      ]
     },
     "execution_count": 44,
     "metadata": {},
     "output_type": "execute_result"
    }
   ],
   "source": [
    "model.output_shape"
   ]
  },
  {
   "attachments": {},
   "cell_type": "markdown",
   "metadata": {},
   "source": [
    "4. Setup Training Options and Train"
   ]
  },
  {
   "cell_type": "code",
   "execution_count": 45,
   "metadata": {},
   "outputs": [],
   "source": [
    "def scheduler(epoch, lr):\n",
    "    if epoch < 30:\n",
    "        return lr\n",
    "    else:\n",
    "        return lr * tf.math.exp(-0.1)"
   ]
  },
  {
   "cell_type": "code",
   "execution_count": 46,
   "metadata": {},
   "outputs": [],
   "source": [
    "def CTCLoss(y_true, y_pred):\n",
    "    batch_len = tf.cast(tf.shape(y_true)[0], dtype=\"int64\")\n",
    "    input_length = tf.cast(tf.shape(y_pred)[1], dtype=\"int64\")\n",
    "    label_length = tf.cast(tf.shape(y_true)[1], dtype=\"int64\")\n",
    "\n",
    "    input_length = input_length * tf.ones(shape=(batch_len, 1), dtype=\"int64\")\n",
    "    label_length = label_length * tf.ones(shape=(batch_len, 1), dtype=\"int64\")\n",
    "\n",
    "    loss = tf.keras.backend.ctc_batch_cost(y_true, y_pred, input_length, label_length)\n",
    "    return loss"
   ]
  },
  {
   "cell_type": "code",
   "execution_count": 1,
   "metadata": {},
   "outputs": [
    {
     "ename": "NameError",
     "evalue": "name 'tf' is not defined",
     "output_type": "error",
     "traceback": [
      "\u001b[1;31m---------------------------------------------------------------------------\u001b[0m",
      "\u001b[1;31mNameError\u001b[0m                                 Traceback (most recent call last)",
      "Cell \u001b[1;32mIn[1], line 1\u001b[0m\n\u001b[1;32m----> 1\u001b[0m \u001b[39mclass\u001b[39;00m \u001b[39mProduceExample\u001b[39;00m(tf\u001b[39m.\u001b[39mkeras\u001b[39m.\u001b[39mcallbacks\u001b[39m.\u001b[39mCallback): \n\u001b[0;32m      2\u001b[0m     \u001b[39mdef\u001b[39;00m \u001b[39m__init__\u001b[39m(\u001b[39mself\u001b[39m, dataset) \u001b[39m-\u001b[39m\u001b[39m>\u001b[39m \u001b[39mNone\u001b[39;00m: \n\u001b[0;32m      3\u001b[0m         \u001b[39m#dataset = tf.data.Dataset.range(10)\u001b[39;00m\n\u001b[0;32m      4\u001b[0m         \u001b[39m#self.dataset = dataset.numpy()\u001b[39;00m\n\u001b[0;32m      5\u001b[0m         \u001b[39mself\u001b[39m\u001b[39m.\u001b[39mdataset \u001b[39m=\u001b[39m dataset\u001b[39m.\u001b[39mas_numpy_iterator()\n",
      "\u001b[1;31mNameError\u001b[0m: name 'tf' is not defined"
     ]
    }
   ],
   "source": [
    "class ProduceExample(tf.keras.callbacks.Callback): \n",
    "    def __init__(self, dataset) -> None: \n",
    "        #dataset = tf.data.Dataset.range(10)\n",
    "        #self.dataset = dataset.numpy()\n",
    "        self.dataset = dataset.as_numpy_iterator()\n",
    "    \n",
    "    def on_epoch_end(self, epoch, logs=None) -> None:\n",
    "        data = self.dataset.next()\n",
    "        yhat = self.model.predict(data[0])\n",
    "        decoded = tf.keras.backend.ctc_decode(yhat, [75,75], greedy=False)[0][0].numpy()\n",
    "        for x in range(len(yhat)):           \n",
    "            print('Original:', tf.strings.reduce_join(num_to_char(data[1][x])).numpy().decode('utf-8'))\n",
    "            print('Prediction:', tf.strings.reduce_join(num_to_char(decoded[x])).numpy().decode('utf-8'))\n",
    "            print('~'*100)"
   ]
  },
  {
   "cell_type": "code",
   "execution_count": 72,
   "metadata": {},
   "outputs": [],
   "source": [
    "model.compile(optimizer=Adam(learning_rate=0.0001), loss=CTCLoss)"
   ]
  },
  {
   "cell_type": "code",
   "execution_count": 73,
   "metadata": {},
   "outputs": [],
   "source": [
    "checkpoint_callback = ModelCheckpoint(os.path.join('models','checkpoint'), monitor='loss', save_weights_only=True) "
   ]
  },
  {
   "cell_type": "code",
   "execution_count": 74,
   "metadata": {},
   "outputs": [],
   "source": [
    "schedule_callback = LearningRateScheduler(scheduler)"
   ]
  },
  {
   "cell_type": "code",
   "execution_count": 75,
   "metadata": {},
   "outputs": [
    {
     "ename": "AttributeError",
     "evalue": "'_NumpyIterator' object has no attribute 'as_numpy_iterator'",
     "output_type": "error",
     "traceback": [
      "\u001b[1;31m---------------------------------------------------------------------------\u001b[0m",
      "\u001b[1;31mAttributeError\u001b[0m                            Traceback (most recent call last)",
      "Cell \u001b[1;32mIn[75], line 1\u001b[0m\n\u001b[1;32m----> 1\u001b[0m example_callback \u001b[39m=\u001b[39m ProduceExample(test)\n",
      "Cell \u001b[1;32mIn[71], line 5\u001b[0m, in \u001b[0;36mProduceExample.__init__\u001b[1;34m(self, dataset)\u001b[0m\n\u001b[0;32m      2\u001b[0m \u001b[39mdef\u001b[39;00m \u001b[39m__init__\u001b[39m(\u001b[39mself\u001b[39m, dataset) \u001b[39m-\u001b[39m\u001b[39m>\u001b[39m \u001b[39mNone\u001b[39;00m: \n\u001b[0;32m      3\u001b[0m     \u001b[39m#dataset = tf.data.Dataset.range(10)\u001b[39;00m\n\u001b[0;32m      4\u001b[0m     \u001b[39m#self.dataset = dataset.numpy()\u001b[39;00m\n\u001b[1;32m----> 5\u001b[0m     \u001b[39mself\u001b[39m\u001b[39m.\u001b[39mdataset \u001b[39m=\u001b[39m dataset\u001b[39m.\u001b[39;49mas_numpy_iterator()\n",
      "\u001b[1;31mAttributeError\u001b[0m: '_NumpyIterator' object has no attribute 'as_numpy_iterator'"
     ]
    }
   ],
   "source": [
    "example_callback = ProduceExample(test)"
   ]
  },
  {
   "cell_type": "code",
   "execution_count": 56,
   "metadata": {},
   "outputs": [
    {
     "ename": "NameError",
     "evalue": "name 'example_callback' is not defined",
     "output_type": "error",
     "traceback": [
      "\u001b[1;31m---------------------------------------------------------------------------\u001b[0m",
      "\u001b[1;31mNameError\u001b[0m                                 Traceback (most recent call last)",
      "Cell \u001b[1;32mIn[56], line 1\u001b[0m\n\u001b[1;32m----> 1\u001b[0m model\u001b[39m.\u001b[39mfit(train, validation_data\u001b[39m=\u001b[39mtest, epochs\u001b[39m=\u001b[39m\u001b[39m100\u001b[39m, callbacks\u001b[39m=\u001b[39m[checkpoint_callback, schedule_callback, example_callback])\n",
      "\u001b[1;31mNameError\u001b[0m: name 'example_callback' is not defined"
     ]
    }
   ],
   "source": [
    "model.fit(train, validation_data=test, epochs=100, callbacks=[checkpoint_callback, schedule_callback, example_callback])"
   ]
  }
 ],
 "metadata": {
  "kernelspec": {
   "display_name": "lips",
   "language": "python",
   "name": "python3"
  },
  "language_info": {
   "codemirror_mode": {
    "name": "ipython",
    "version": 3
   },
   "file_extension": ".py",
   "mimetype": "text/x-python",
   "name": "python",
   "nbconvert_exporter": "python",
   "pygments_lexer": "ipython3",
   "version": "3.8.2"
  },
  "orig_nbformat": 4,
  "vscode": {
   "interpreter": {
    "hash": "c2442054d354fb9de2b70421bc24527832f527f4b667c46869369eef5362e841"
   }
  }
 },
 "nbformat": 4,
 "nbformat_minor": 2
}
